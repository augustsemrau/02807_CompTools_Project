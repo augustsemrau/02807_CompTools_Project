{
 "cells": [
  {
   "cell_type": "code",
   "execution_count": 1,
   "metadata": {},
   "outputs": [
    {
     "name": "stderr",
     "output_type": "stream",
     "text": [
      "c:\\Users\\Lasse\\anaconda3\\envs\\bachelorproject\\lib\\site-packages\\scipy\\__init__.py:146: UserWarning: A NumPy version >=1.16.5 and <1.23.0 is required for this version of SciPy (detected version 1.26.0\n",
      "  warnings.warn(f\"A NumPy version >={np_minversion} and <{np_maxversion}\"\n"
     ]
    }
   ],
   "source": [
    "import pandas as pd\n",
    "from collections import Counter\n",
    "import math\n",
    "import re\n",
    "import nltk\n",
    "from nltk.stem import PorterStemmer\n",
    "from nltk.corpus import stopwords\n",
    "import pandas as pd\n"
   ]
  },
  {
   "cell_type": "code",
   "execution_count": 4,
   "metadata": {},
   "outputs": [],
   "source": [
    "# Load real and fake BuzzFeed datasets\n",
    "df_real = pd.read_csv('../data/raw/BuzzFeed_real_news_content.csv')\n",
    "df_fake = pd.read_csv('../data/raw/BuzzFeed_fake_news_content.csv')"
   ]
  },
  {
   "cell_type": "code",
   "execution_count": null,
   "metadata": {},
   "outputs": [],
   "source": [
    "\n",
    "# Concatenate them into a full dataset\n",
    "df_full = pd.concat([df_real, df_fake], ignore_index=True)\n",
    "\n",
    "# Append news_id from PolitiFactNews.txt\n",
    "with open('../data/raw/BuzzFeedNews.txt', 'r') as file:\n",
    "    news_ids = [line.strip() for line in file]\n",
    "\n",
    "df_full[\"news_id\"] = news_ids\n",
    "\n",
    "# Load train and test id's\n",
    "with open('../data/processed/FakeNewsNet/trainIds.txt', 'r') as file:\n",
    "    train_values = [line.strip() for line in file]\n",
    "with open('../data/processed/FakeNewsNet/testIds.txt', 'r') as file:\n",
    "    test_values = [line.strip() for line in file]\n",
    "\n",
    "# Create train and test data sets\n",
    "df_train = df_full[df_full['news_id'].isin(train_values)]\n",
    "df_test = df_full[df_full['news_id'].isin(test_values)]\n",
    "\n",
    "df_train[\"full_text\"] = df_train[\"title\"] + \" \" + df_train[\"text\"]\n",
    "df_test[\"full_text\"] = df_test[\"title\"] + \" \" + df_test[\"text\"]\n",
    "\n",
    "# Create a label column stating whether the news is fake or real based on the news_id column\n",
    "df_train[\"label\"] = df_train[\"news_id\"].apply(lambda x: \"fake\" if x.split(\"_\")[1].lower() == \"fake\" else \"real\")\n",
    "df_test[\"label\"] = df_test[\"news_id\"].apply(lambda x: \"fake\" if x.split(\"_\")[1].lower() == \"fake\" else \"real\")\n"
   ]
  }
 ],
 "metadata": {
  "kernelspec": {
   "display_name": "bachelorproject",
   "language": "python",
   "name": "python3"
  },
  "language_info": {
   "codemirror_mode": {
    "name": "ipython",
    "version": 3
   },
   "file_extension": ".py",
   "mimetype": "text/x-python",
   "name": "python",
   "nbconvert_exporter": "python",
   "pygments_lexer": "ipython3",
   "version": "3.9.6"
  },
  "orig_nbformat": 4
 },
 "nbformat": 4,
 "nbformat_minor": 2
}
