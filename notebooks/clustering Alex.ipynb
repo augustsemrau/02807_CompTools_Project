{
 "cells": [
  {
   "cell_type": "code",
   "execution_count": 16,
   "metadata": {},
   "outputs": [],
   "source": [
    "import pandas as pd\n",
    "from collections import Counter\n",
    "import math\n",
    "import re\n",
    "import nltk\n",
    "from nltk.stem import PorterStemmer\n",
    "from nltk.corpus import stopwords\n",
    "import pandas as pd"
   ]
  },
  {
   "cell_type": "markdown",
   "metadata": {},
   "source": [
    "## Load the data and create the news_id and full_text columns"
   ]
  },
  {
   "cell_type": "code",
   "execution_count": 17,
   "metadata": {},
   "outputs": [
    {
     "name": "stderr",
     "output_type": "stream",
     "text": [
      "C:\\Users\\alex\\AppData\\Local\\Temp\\ipykernel_28204\\2063233880.py:24: SettingWithCopyWarning:\n",
      "\n",
      "\n",
      "A value is trying to be set on a copy of a slice from a DataFrame.\n",
      "Try using .loc[row_indexer,col_indexer] = value instead\n",
      "\n",
      "See the caveats in the documentation: https://pandas.pydata.org/pandas-docs/stable/user_guide/indexing.html#returning-a-view-versus-a-copy\n",
      "\n",
      "C:\\Users\\alex\\AppData\\Local\\Temp\\ipykernel_28204\\2063233880.py:25: SettingWithCopyWarning:\n",
      "\n",
      "\n",
      "A value is trying to be set on a copy of a slice from a DataFrame.\n",
      "Try using .loc[row_indexer,col_indexer] = value instead\n",
      "\n",
      "See the caveats in the documentation: https://pandas.pydata.org/pandas-docs/stable/user_guide/indexing.html#returning-a-view-versus-a-copy\n",
      "\n",
      "C:\\Users\\alex\\AppData\\Local\\Temp\\ipykernel_28204\\2063233880.py:28: SettingWithCopyWarning:\n",
      "\n",
      "\n",
      "A value is trying to be set on a copy of a slice from a DataFrame.\n",
      "Try using .loc[row_indexer,col_indexer] = value instead\n",
      "\n",
      "See the caveats in the documentation: https://pandas.pydata.org/pandas-docs/stable/user_guide/indexing.html#returning-a-view-versus-a-copy\n",
      "\n",
      "C:\\Users\\alex\\AppData\\Local\\Temp\\ipykernel_28204\\2063233880.py:29: SettingWithCopyWarning:\n",
      "\n",
      "\n",
      "A value is trying to be set on a copy of a slice from a DataFrame.\n",
      "Try using .loc[row_indexer,col_indexer] = value instead\n",
      "\n",
      "See the caveats in the documentation: https://pandas.pydata.org/pandas-docs/stable/user_guide/indexing.html#returning-a-view-versus-a-copy\n",
      "\n"
     ]
    }
   ],
   "source": [
    "\n",
    "# Load fake and real news datasets\n",
    "pf_fake = pd.read_csv(\"../data/raw/FakeNewsNet/BuzzFeed_fake_news_content.csv\")\n",
    "pf_real = pd.read_csv(\"../data/raw/FakeNewsNet/BuzzFeed_real_news_content.csv\")\n",
    "\n",
    "# Concatenate them into a full dataset\n",
    "df_full = pd.concat([pf_real, pf_fake], ignore_index=True)\n",
    "\n",
    "# Append news_id from PolitiFactNews.txt\n",
    "with open('../data/raw/FakeNewsNet/BuzzFeedNews.txt', 'r') as file:\n",
    "    news_ids = [line.strip() for line in file]\n",
    "\n",
    "df_full[\"news_id\"] = news_ids\n",
    "\n",
    "# Load train and test id's\n",
    "with open('../data/processed/FakeNewsNet/BuzzFeed_trainIds.txt', 'r') as file:\n",
    "    train_values = [line.strip() for line in file]\n",
    "with open('../data/processed/FakeNewsNet/BuzzFeed_testIds.txt', 'r') as file:\n",
    "    test_values = [line.strip() for line in file]\n",
    "\n",
    "# Create train and test data sets\n",
    "df_train = df_full[df_full['news_id'].isin(train_values)]\n",
    "df_test = df_full[df_full['news_id'].isin(test_values)]\n",
    "\n",
    "df_train[\"full_text\"] = df_train[\"title\"] + \" \" + df_train[\"text\"]\n",
    "df_test[\"full_text\"] = df_test[\"title\"] + \" \" + df_test[\"text\"]\n",
    "\n",
    "# Create a label column stating whether the news is fake or real based on the news_id column\n",
    "df_train[\"label\"] = df_train[\"news_id\"].apply(lambda x: \"fake\" if x.split(\"_\")[1].lower() == \"fake\" else \"real\")\n",
    "df_test[\"label\"] = df_test[\"news_id\"].apply(lambda x: \"fake\" if x.split(\"_\")[1].lower() == \"fake\" else \"real\")\n"
   ]
  },
  {
   "cell_type": "markdown",
   "metadata": {},
   "source": [
    "## Creating a TF-IDF representation."
   ]
  },
  {
   "cell_type": "code",
   "execution_count": 18,
   "metadata": {},
   "outputs": [
    {
     "name": "stderr",
     "output_type": "stream",
     "text": [
      "C:\\Users\\alex\\AppData\\Local\\Temp\\ipykernel_28204\\884586417.py:15: SettingWithCopyWarning:\n",
      "\n",
      "\n",
      "A value is trying to be set on a copy of a slice from a DataFrame.\n",
      "Try using .loc[row_indexer,col_indexer] = value instead\n",
      "\n",
      "See the caveats in the documentation: https://pandas.pydata.org/pandas-docs/stable/user_guide/indexing.html#returning-a-view-versus-a-copy\n",
      "\n",
      "C:\\Users\\alex\\AppData\\Local\\Temp\\ipykernel_28204\\884586417.py:33: SettingWithCopyWarning:\n",
      "\n",
      "\n",
      "A value is trying to be set on a copy of a slice from a DataFrame.\n",
      "Try using .loc[row_indexer,col_indexer] = value instead\n",
      "\n",
      "See the caveats in the documentation: https://pandas.pydata.org/pandas-docs/stable/user_guide/indexing.html#returning-a-view-versus-a-copy\n",
      "\n",
      "C:\\Users\\alex\\AppData\\Local\\Temp\\ipykernel_28204\\884586417.py:54: SettingWithCopyWarning:\n",
      "\n",
      "\n",
      "A value is trying to be set on a copy of a slice from a DataFrame.\n",
      "Try using .loc[row_indexer,col_indexer] = value instead\n",
      "\n",
      "See the caveats in the documentation: https://pandas.pydata.org/pandas-docs/stable/user_guide/indexing.html#returning-a-view-versus-a-copy\n",
      "\n",
      "C:\\Users\\alex\\AppData\\Local\\Temp\\ipykernel_28204\\884586417.py:43: SettingWithCopyWarning:\n",
      "\n",
      "\n",
      "A value is trying to be set on a copy of a slice from a DataFrame.\n",
      "Try using .loc[row_indexer,col_indexer] = value instead\n",
      "\n",
      "See the caveats in the documentation: https://pandas.pydata.org/pandas-docs/stable/user_guide/indexing.html#returning-a-view-versus-a-copy\n",
      "\n",
      "C:\\Users\\alex\\AppData\\Local\\Temp\\ipykernel_28204\\884586417.py:49: SettingWithCopyWarning:\n",
      "\n",
      "\n",
      "A value is trying to be set on a copy of a slice from a DataFrame.\n",
      "Try using .loc[row_indexer,col_indexer] = value instead\n",
      "\n",
      "See the caveats in the documentation: https://pandas.pydata.org/pandas-docs/stable/user_guide/indexing.html#returning-a-view-versus-a-copy\n",
      "\n",
      "C:\\Users\\alex\\AppData\\Local\\Temp\\ipykernel_28204\\884586417.py:57: SettingWithCopyWarning:\n",
      "\n",
      "\n",
      "A value is trying to be set on a copy of a slice from a DataFrame.\n",
      "Try using .loc[row_indexer,col_indexer] = value instead\n",
      "\n",
      "See the caveats in the documentation: https://pandas.pydata.org/pandas-docs/stable/user_guide/indexing.html#returning-a-view-versus-a-copy\n",
      "\n"
     ]
    }
   ],
   "source": [
    "# Download the stopwords dataset\n",
    "nltk.download('stopwords', quiet=True)\n",
    "\n",
    "\n",
    "def tokenize(text, stemmer, stop_words):\n",
    "    \"\"\"Tokenize text, stem, and remove stop words.\"\"\"\n",
    "    tokens = re.findall(r'\\b\\w+\\b', text.lower())\n",
    "    return [stemmer.stem(token) for token in tokens if token not in stop_words]\n",
    "\n",
    "def compute_tfidf_train(df, column_name):\n",
    "    stemmer = PorterStemmer()\n",
    "    stop_words = set(stopwords.words('english'))\n",
    "\n",
    "    # Tokenize, stem and compute term frequency for each document\n",
    "    df['tf'] = df[column_name].apply(lambda x: Counter(tokenize(x, stemmer, stop_words)))\n",
    "\n",
    "    # Create a list of all unique words in the corpus\n",
    "    all_unique_words = list(set(word for tf in df['tf'] for word in tf.keys()))\n",
    "\n",
    "    # Compute the number of documents in which each word appears\n",
    "    word_document_count = Counter(word for tf in df['tf'] for word in tf.keys())\n",
    "\n",
    "    # Compute the total number of documents\n",
    "    total_documents = len(df)\n",
    "\n",
    "    # Compute inverse document frequency for each word\n",
    "    idf = {word: math.log(total_documents / count) for word, count in word_document_count.items()}\n",
    "\n",
    "    # Compute TF-IDF for each word in each document and ensure that all words in the corpus are represented\n",
    "    def calculate_tfidf(tf):\n",
    "        return {word: tf.get(word, 0)/sum(tf.values()) * idf[word] for word in all_unique_words}\n",
    "\n",
    "    df['tfidf'] = df['tf'].apply(calculate_tfidf)\n",
    "\n",
    "    return df['tfidf'], all_unique_words, idf\n",
    "\n",
    "\n",
    "# We create a separate function for the test data because we need to use the IDF from the training data\n",
    "def compute_tfidf_test(df, column_name, train_unique_words, train_idf):\n",
    "    stemmer = PorterStemmer()\n",
    "    stop_words = set(stopwords.words('english'))\n",
    "\n",
    "    df['tf'] = df[column_name].apply(lambda x: Counter(tokenize(x, stemmer, stop_words)))\n",
    "\n",
    "    # Compute TF-IDF for each word in each document using the vocabulary and IDF from training data\n",
    "    def calculate_tfidf(tf):\n",
    "        return {word: tf.get(word, 0)/sum(tf.values()) * train_idf[word] for word in train_unique_words}\n",
    "\n",
    "    df['tfidf'] = df['tf'].apply(calculate_tfidf)\n",
    "\n",
    "    return df['tfidf']\n",
    "\n",
    "# For the training data\n",
    "df_train['tfidf'], train_unique_words, train_idf = compute_tfidf_train(df_train, 'full_text')\n",
    "\n",
    "# For the test data\n",
    "df_test['tfidf'] = compute_tfidf_test(df_test, 'full_text', train_unique_words, train_idf)\n",
    "\n",
    "df_train.to_csv(\"../data/processed/FakeNewsNet/train.csv\", index=False)\n",
    "df_test.to_csv(\"../data/processed/FakeNewsNet/test.csv\", index=False)\n"
   ]
  },
  {
   "cell_type": "markdown",
   "metadata": {},
   "source": [
    "## Word clouds for fake and real news"
   ]
  },
  {
   "cell_type": "code",
   "execution_count": 19,
   "metadata": {},
   "outputs": [
    {
     "ename": "ModuleNotFoundError",
     "evalue": "No module named 'wordcloud'",
     "output_type": "error",
     "traceback": [
      "\u001b[1;31m---------------------------------------------------------------------------\u001b[0m",
      "\u001b[1;31mModuleNotFoundError\u001b[0m                       Traceback (most recent call last)",
      "\u001b[1;32md:\\shared\\DTU\\9. Semester\\Computational_Tools_for_Data_Science\\Project\\Alex_Branch\\02807_CompTools_Project\\notebooks\\clustering Alex.ipynb Cell 7\u001b[0m line \u001b[0;36m2\n\u001b[0;32m      <a href='vscode-notebook-cell:/d%3A/shared/DTU/9.%20Semester/Computational_Tools_for_Data_Science/Project/Alex_Branch/02807_CompTools_Project/notebooks/clustering%20Alex.ipynb#W6sZmlsZQ%3D%3D?line=0'>1</a>\u001b[0m \u001b[39m# Create word cloud for the fake news\u001b[39;00m\n\u001b[1;32m----> <a href='vscode-notebook-cell:/d%3A/shared/DTU/9.%20Semester/Computational_Tools_for_Data_Science/Project/Alex_Branch/02807_CompTools_Project/notebooks/clustering%20Alex.ipynb#W6sZmlsZQ%3D%3D?line=1'>2</a>\u001b[0m \u001b[39mfrom\u001b[39;00m \u001b[39mwordcloud\u001b[39;00m \u001b[39mimport\u001b[39;00m WordCloud\n\u001b[0;32m      <a href='vscode-notebook-cell:/d%3A/shared/DTU/9.%20Semester/Computational_Tools_for_Data_Science/Project/Alex_Branch/02807_CompTools_Project/notebooks/clustering%20Alex.ipynb#W6sZmlsZQ%3D%3D?line=2'>3</a>\u001b[0m \u001b[39mimport\u001b[39;00m \u001b[39mmatplotlib\u001b[39;00m\u001b[39m.\u001b[39;00m\u001b[39mpyplot\u001b[39;00m \u001b[39mas\u001b[39;00m \u001b[39mplt\u001b[39;00m\n\u001b[0;32m      <a href='vscode-notebook-cell:/d%3A/shared/DTU/9.%20Semester/Computational_Tools_for_Data_Science/Project/Alex_Branch/02807_CompTools_Project/notebooks/clustering%20Alex.ipynb#W6sZmlsZQ%3D%3D?line=4'>5</a>\u001b[0m pf_fake[\u001b[39m\"\u001b[39m\u001b[39mfull_text\u001b[39m\u001b[39m\"\u001b[39m] \u001b[39m=\u001b[39m pf_fake[\u001b[39m\"\u001b[39m\u001b[39mtitle\u001b[39m\u001b[39m\"\u001b[39m] \u001b[39m+\u001b[39m \u001b[39m\"\u001b[39m\u001b[39m \u001b[39m\u001b[39m\"\u001b[39m \u001b[39m+\u001b[39m pf_fake[\u001b[39m\"\u001b[39m\u001b[39mtext\u001b[39m\u001b[39m\"\u001b[39m]\n",
      "\u001b[1;31mModuleNotFoundError\u001b[0m: No module named 'wordcloud'"
     ]
    }
   ],
   "source": [
    "# Create word cloud for the fake news\n",
    "from wordcloud import WordCloud\n",
    "import matplotlib.pyplot as plt\n",
    "\n",
    "pf_fake[\"full_text\"] = pf_fake[\"title\"] + \" \" + pf_fake[\"text\"]\n",
    "\n",
    "pf_real[\"full_text\"] = pf_real[\"title\"] + \" \" + pf_real[\"text\"]\n",
    "\n",
    "# Create a word cloud for the fake news\n",
    "wordcloud_fake = WordCloud(background_color=\"white\",\n",
    "                           max_words=5000,\n",
    "                           contour_width=3,\n",
    "                           contour_color='steelblue',\n",
    "                           width=800,  \n",
    "                           height=400  \n",
    "                          )\n",
    "wordcloud_fake.generate(pf_fake[\"full_text\"].to_string())\n",
    "wordcloud_fake.to_image()\n",
    "\n",
    "# Create a word cloud for the real news\n",
    "wordcloud_real = WordCloud(background_color=\"white\",\n",
    "                           max_words=5000,\n",
    "                           contour_width=3,\n",
    "                           contour_color='steelblue',\n",
    "                           width=800,  \n",
    "                           height=400  \n",
    "                          )\n",
    "wordcloud_real.generate(pf_real[\"full_text\"].to_string())\n",
    "wordcloud_real.to_image()\n",
    "\n",
    "# Set up the figure and axes\n",
    "fig, axarr = plt.subplots(1, 2, figsize=(20, 10))  # 1x2 grid of plots, adjust the figure size as needed\n",
    "\n",
    "# Display the fake news word cloud on the left subplot\n",
    "axarr[0].imshow(wordcloud_fake, interpolation='bilinear')\n",
    "axarr[0].axis('off')\n",
    "axarr[0].set_title(\"Fake News Word Cloud\", fontsize=20)\n",
    "\n",
    "# Display the real news word cloud on the right subplot\n",
    "axarr[1].imshow(wordcloud_real, interpolation='bilinear')  # Make sure you're showing wordcloud_real here\n",
    "axarr[1].axis('off')\n",
    "axarr[1].set_title(\"Real News Word Cloud\", fontsize=20)\n",
    "\n",
    "# Adjust the spacing between the plots if necessary\n",
    "plt.tight_layout()\n",
    "\n",
    "plt.show()\n",
    "\n",
    "\n",
    "\n"
   ]
  },
  {
   "cell_type": "code",
   "execution_count": 20,
   "metadata": {},
   "outputs": [
    {
     "name": "stdout",
     "output_type": "stream",
     "text": [
      "(91, 12)\n",
      "(91, 12)\n"
     ]
    }
   ],
   "source": [
    "print(pf_fake.shape)\n",
    "print(pf_real.shape)\n",
    "#pf_fake"
   ]
  },
  {
   "cell_type": "code",
   "execution_count": 21,
   "metadata": {},
   "outputs": [],
   "source": [
    "#pf_fake"
   ]
  },
  {
   "cell_type": "markdown",
   "metadata": {},
   "source": [
    "## PCA on the training data"
   ]
  },
  {
   "cell_type": "code",
   "execution_count": 22,
   "metadata": {},
   "outputs": [
    {
     "data": {
      "image/png": "[encoded data removed]",
      "text/plain": [
       "<Figure size 1000x500 with 1 Axes>"
      ]
     },
     "metadata": {},
     "output_type": "display_data"
    },
    {
     "name": "stderr",
     "output_type": "stream",
     "text": [
      "C:\\Users\\alex\\AppData\\Local\\Temp\\ipykernel_28204\\1510258318.py:30: UserWarning:\n",
      "\n",
      "No data for colormapping provided via 'c'. Parameters 'cmap' will be ignored\n",
      "\n"
     ]
    },
    {
     "data": {
      "image/png": "[encoded data removed]",
      "text/plain": [
       "<Figure size 1000x1000 with 1 Axes>"
      ]
     },
     "metadata": {},
     "output_type": "display_data"
    }
   ],
   "source": [
    "from sklearn.decomposition import PCA\n",
    "from sklearn.feature_extraction import DictVectorizer\n",
    "import matplotlib.patches as mpatches\n",
    "import matplotlib.pyplot as plt\n",
    "import plotly.graph_objs as go\n",
    "from plotly.offline import plot\n",
    "\n",
    "# Convert the dictionaries in the \"tfidf\" column into a matrix\n",
    "dict_vectorizer = DictVectorizer(sparse=False)\n",
    "tfidf_matrix_train = dict_vectorizer.fit_transform(df_train['tfidf'])\n",
    "tfidf_matrix_test = dict_vectorizer.fit_transform(df_test['tfidf'])\n",
    "\n",
    "# Compute PCA of the TF-IDF vectors\n",
    "pca = PCA(n_components=50)\n",
    "pca.fit(tfidf_matrix_train)\n",
    "\n",
    "# Transform the TF-IDF matrix using the PCA model\n",
    "tfidf_pca = pca.transform(tfidf_matrix_train)\n",
    "\n",
    "plt.figure(figsize=(10, 5))\n",
    "plt.plot(pca.explained_variance_ratio_)\n",
    "plt.xlabel('Principal component', fontsize=14)\n",
    "plt.ylabel('Explained variance ratio', fontsize=14)\n",
    "plt.title('Scree plot of PCA', fontsize=16)\n",
    "plt.grid(True)\n",
    "plt.show()\n",
    "\n",
    "# Create a scatter plot of the two first principal components\n",
    "plt.figure(figsize=(10, 10))\n",
    "plt.scatter(tfidf_pca[:, 0], tfidf_pca[:, 1], c=df_train['label'].map({'fake': 'red', 'real': 'blue'}), cmap='coolwarm')\n",
    "plt.xlabel('First principal component', fontsize=14)\n",
    "plt.ylabel('Second principal component', fontsize=14)\n",
    "plt.title('PCA of TF-IDF vectors', fontsize=16)\n",
    "plt.grid(True)\n",
    "plt.legend(['fake', 'real'], fontsize=14)\n",
    "plt.show()"
   ]
  },
  {
   "cell_type": "code",
   "execution_count": 23,
   "metadata": {},
   "outputs": [
    {
     "data": {
      "text/plain": [
       "(146, 6303)"
      ]
     },
     "execution_count": 23,
     "metadata": {},
     "output_type": "execute_result"
    }
   ],
   "source": [
    "tfidf_matrix_train.shape"
   ]
  },
  {
   "cell_type": "code",
   "execution_count": 24,
   "metadata": {},
   "outputs": [
    {
     "data": {
      "image/png": "[encoded data removed]",
      "text/plain": [
       "<Figure size 1000x1000 with 1 Axes>"
      ]
     },
     "metadata": {},
     "output_type": "display_data"
    }
   ],
   "source": [
    "#Meget stor forskel på TSNE og PCA\n",
    "\n",
    "# Create a t-SNE scatter plot of the trainind data\n",
    "from sklearn.manifold import TSNE\n",
    "import matplotlib.pyplot as plt\n",
    "\n",
    "# Compute t-SNE of the TF-IDF vectors\n",
    "tsne = TSNE(n_components=2, perplexity=50, learning_rate=100, n_iter=1000)\n",
    "tsne.fit(tfidf_matrix_train)\n",
    "\n",
    "# Transform the TF-IDF matrix using the t-SNE model\n",
    "tfidf_tsne = tsne.fit_transform(tfidf_matrix_train)\n",
    "\n",
    "# Create a scatter plot of the two first t-SNE components\n",
    "plt.figure(figsize=(10, 10))\n",
    "plt.scatter(tfidf_tsne[:, 0], tfidf_tsne[:, 1], c=df_train['label'].map({'fake': 'red', 'real': 'blue'}))\n",
    "plt.xlabel('First t-SNE component')\n",
    "plt.ylabel('Second t-SNE component')\n",
    "plt.title('t-SNE of TF-IDF vectors')\n",
    "plt.show()\n"
   ]
  },
  {
   "cell_type": "code",
   "execution_count": 25,
   "metadata": {},
   "outputs": [],
   "source": [
    "# # Create a UMAP scatter plot of the training data\n",
    "# import umap.umap_ as umap\n",
    "# import matplotlib.pyplot as plt\n",
    "\n",
    "# # Compute UMAP of the TF-IDF vectors\n",
    "# umap = umap.UMAP(n_components=2, n_neighbors=50, min_dist=0.1)\n",
    "# umap.fit(tfidf_matrix)\n",
    "\n",
    "# # Transform the TF-IDF matrix using the UMAP model\n",
    "# tfidf_umap = umap.fit_transform(tfidf_matrix)\n",
    "\n",
    "# # Create a scatter plot of the two first UMAP components\n",
    "# plt.figure(figsize=(10, 10))\n",
    "# plt.scatter(tfidf_umap[:, 0], tfidf_umap[:, 1], c=df_train['label'].map({'fake': 'red', 'real': 'blue'}))\n",
    "# plt.xlabel('First UMAP component')\n",
    "# plt.ylabel('Second UMAP component')\n",
    "# plt.title('UMAP of TF-IDF vectors')\n",
    "# plt.show()\n"
   ]
  },
  {
   "cell_type": "code",
   "execution_count": 26,
   "metadata": {},
   "outputs": [],
   "source": [
    "# Function to calculate the cosine similarity between two vectors\n",
    "\n",
    "def cosine_similarity(vector1, vector2):\n",
    "    \"\"\"Calculate the cosine similarity between two vectors.\"\"\"\n",
    "    dot_product = sum(p*q for p, q in zip(vector1, vector2))\n",
    "    magnitude = math.sqrt(sum([val**2 for val in vector1])) * math.sqrt(sum([val**2 for val in vector2]))\n",
    "    if not magnitude:\n",
    "        return 0\n",
    "    return dot_product/magnitude\n",
    "\n"
   ]
  },
  {
   "cell_type": "code",
   "execution_count": 27,
   "metadata": {},
   "outputs": [
    {
     "data": {
      "text/plain": [
       "array([[0.        , 0.        , 0.00492432, ..., 0.        , 0.        ,\n",
       "        0.        ],\n",
       "       [0.        , 0.        , 0.        , ..., 0.        , 0.        ,\n",
       "        0.        ],\n",
       "       [0.        , 0.        , 0.0079248 , ..., 0.        , 0.        ,\n",
       "        0.        ],\n",
       "       ...,\n",
       "       [0.        , 0.        , 0.        , ..., 0.        , 0.        ,\n",
       "        0.        ],\n",
       "       [0.        , 0.        , 0.        , ..., 0.        , 0.        ,\n",
       "        0.        ],\n",
       "       [0.        , 0.        , 0.        , ..., 0.        , 0.        ,\n",
       "        0.        ]])"
      ]
     },
     "execution_count": 27,
     "metadata": {},
     "output_type": "execute_result"
    }
   ],
   "source": [
    "tfidf_matrix_train"
   ]
  },
  {
   "cell_type": "code",
   "execution_count": 44,
   "metadata": {},
   "outputs": [
    {
     "name": "stdout",
     "output_type": "stream",
     "text": [
      "146\n"
     ]
    },
    {
     "data": {
      "text/plain": [
       "array([ 0,  0,  0,  0,  0,  0,  0,  0,  0,  0,  0,  0,  0, -1,  0, -1,  0,\n",
       "        0, -1, -1,  0,  0, -1, -1,  0,  0,  0, -1,  0,  0,  0,  0,  0,  0,\n",
       "       -1,  0,  0,  0,  0,  0, -1,  0,  0, -1,  0,  0,  0,  0,  0, -1,  0,\n",
       "        0,  0,  0,  0, -1, -1,  0,  0,  0,  0, -1,  0,  0,  0,  0,  0, -1,\n",
       "       -1,  0,  0,  0,  0,  0,  0,  0, -1,  0,  0,  0, -1,  0,  0,  0,  0,\n",
       "        0,  0,  0, -1,  0,  0, -1,  0,  0, -1, -1,  0,  0,  0, -1,  0,  0,\n",
       "        0, -1, -1,  0,  0,  0, -1, -1, -1,  0,  0,  0, -1,  0,  0,  0,  0,\n",
       "        0,  0,  0,  0, -1,  0,  0,  0,  0,  0,  0,  0,  0,  0,  0,  0, -1,\n",
       "        0,  0,  0, -1,  0,  0,  0,  0,  0,  0], dtype=int64)"
      ]
     },
     "execution_count": 44,
     "metadata": {},
     "output_type": "execute_result"
    }
   ],
   "source": [
    "#Gives Precisely a 50/50 representation:\n",
    "from sklearn.cluster import DBSCAN\n",
    "import numpy as np\n",
    "tf_idf_matrix_complete = np.vstack((tfidf_matrix_train, tfidf_matrix_test))\n",
    "tf_idf_matrix_complete.shape\n",
    "\n",
    "#There cosine similarity needs to be 0.9 or higher to be considered a cluster. \n",
    "\n",
    "#The distance measure (used for eps) is 1 - cosine similarity. Thats why it works inversely. The lower the value the more similar \n",
    "#they have to be to be considered a cluster. \n",
    "\n",
    "dbscan_cosine = DBSCAN(eps=0.9, min_samples =5, metric=\"cosine\")\n",
    "dbscan_cosine.fit(tfidf_matrix_train)\n",
    "print(len(dbscan_cosine.labels_))\n",
    "dbscan_cosine.labels_"
   ]
  },
  {
   "cell_type": "code",
   "execution_count": 47,
   "metadata": {},
   "outputs": [
    {
     "name": "stdout",
     "output_type": "stream",
     "text": [
      "-1\n",
      "0\n"
     ]
    }
   ],
   "source": [
    "clusters = np.unique(dbscan_cosine.labels_)\n",
    "for i in clusters: \n",
    "    print(i)"
   ]
  },
  {
   "cell_type": "code",
   "execution_count": 29,
   "metadata": {},
   "outputs": [
    {
     "name": "stdout",
     "output_type": "stream",
     "text": [
      "0\n"
     ]
    },
    {
     "data": {
      "text/plain": [
       "[]"
      ]
     },
     "execution_count": 29,
     "metadata": {},
     "output_type": "execute_result"
    }
   ],
   "source": [
    "#Get index of all -1 values in the labels array\n",
    "dbscan_cosine_Class_1 = [i for i, x in enumerate(dbscan_cosine.labels_) if x == 1]\n",
    "dbscan_cosine_Class_0 = [i for i, x in enumerate(dbscan_cosine.labels_) if x == 0]\n",
    "dbscan_cosine_Class_2 = [i for i, x in enumerate(dbscan_cosine.labels_) if x == 2]\n",
    "dbscan_cosine_Class_11 = [i for i, x in enumerate(dbscan_cosine.labels_) if x == -1]\n",
    "print(len(dbscan_cosine_Class_1))\n",
    "dbscan_cosine_Class_1"
   ]
  },
  {
   "cell_type": "code",
   "execution_count": 30,
   "metadata": {},
   "outputs": [
    {
     "data": {
      "text/plain": [
       "(146, 6303)"
      ]
     },
     "execution_count": 30,
     "metadata": {},
     "output_type": "execute_result"
    }
   ],
   "source": [
    "#df_train[\"label\"]\n",
    "df_train['tfidf']\n",
    "tfidf_matrix_train.shape"
   ]
  },
  {
   "cell_type": "code",
   "execution_count": 31,
   "metadata": {},
   "outputs": [
    {
     "name": "stdout",
     "output_type": "stream",
     "text": [
      "Real:\n",
      "0\n",
      "Fake:\n",
      "0\n"
     ]
    }
   ],
   "source": [
    "dbscan_cosine_Class_1_labels = np.array(list(df_train[\"label\"]))[dbscan_cosine_Class_1]\n",
    "dbscan_cosine_Class_1_labels\n",
    "print('Real:')\n",
    "print(np.count_nonzero(dbscan_cosine_Class_1_labels == \"real\"))\n",
    "print('Fake:')\n",
    "print(np.count_nonzero(dbscan_cosine_Class_1_labels == \"fake\"))"
   ]
  },
  {
   "cell_type": "code",
   "execution_count": 32,
   "metadata": {},
   "outputs": [
    {
     "name": "stdout",
     "output_type": "stream",
     "text": [
      "Real:\n",
      "57\n",
      "Fake:\n",
      "57\n"
     ]
    }
   ],
   "source": [
    "dbscan_cosine_Class_0_labels = np.array(list(df_train[\"label\"]))[dbscan_cosine_Class_0]\n",
    "dbscan_cosine_Class_0_labels\n",
    "print('Real:')\n",
    "print(np.count_nonzero(dbscan_cosine_Class_0_labels == \"real\"))\n",
    "print('Fake:')\n",
    "print(np.count_nonzero(dbscan_cosine_Class_0_labels == \"fake\"))"
   ]
  },
  {
   "cell_type": "code",
   "execution_count": 33,
   "metadata": {},
   "outputs": [
    {
     "name": "stdout",
     "output_type": "stream",
     "text": [
      "Real:\n",
      "0\n",
      "Fake:\n",
      "0\n"
     ]
    }
   ],
   "source": [
    "dbscan_cosine_Class_2_labels = np.array(list(df_train[\"label\"]))[dbscan_cosine_Class_2]\n",
    "dbscan_cosine_Class_2_labels\n",
    "print('Real:')\n",
    "print(np.count_nonzero(dbscan_cosine_Class_2_labels == \"real\"))\n",
    "print('Fake:')\n",
    "print(np.count_nonzero(dbscan_cosine_Class_2_labels == \"fake\"))"
   ]
  },
  {
   "cell_type": "code",
   "execution_count": 34,
   "metadata": {},
   "outputs": [
    {
     "name": "stdout",
     "output_type": "stream",
     "text": [
      "Real:\n",
      "16\n",
      "Fake:\n",
      "16\n"
     ]
    }
   ],
   "source": [
    "dbscan_cosine_Class_11_labels = np.array(list(df_train[\"label\"]))[dbscan_cosine_Class_11]\n",
    "dbscan_cosine_Class_11_labels\n",
    "print('Real:')\n",
    "print(np.count_nonzero(dbscan_cosine_Class_11_labels == \"real\"))\n",
    "print('Fake:')\n",
    "print(np.count_nonzero(dbscan_cosine_Class_11_labels == \"fake\"))"
   ]
  },
  {
   "cell_type": "markdown",
   "metadata": {},
   "source": [
    "***DBSCAN_euclidean***"
   ]
  },
  {
   "cell_type": "code",
   "execution_count": 35,
   "metadata": {},
   "outputs": [
    {
     "name": "stdout",
     "output_type": "stream",
     "text": [
      "182\n"
     ]
    },
    {
     "data": {
      "text/plain": [
       "array([ 0,  0,  0,  0,  0, -1,  0,  0,  0, -1, -1,  0, -1, -1,  0, -1,  0,\n",
       "        0, -1, -1,  0,  0, -1, -1,  0,  0, -1, -1, -1,  0,  0, -1,  0, -1,\n",
       "       -1,  0, -1,  0,  0,  0, -1,  0,  0, -1, -1,  0, -1,  0,  0,  0,  0,\n",
       "       -1,  0,  0,  0, -1, -1, -1, -1,  0,  0,  0,  0,  0, -1,  0, -1, -1,\n",
       "       -1,  0, -1,  0, -1,  0,  0,  0, -1, -1,  0,  0, -1,  0,  0,  0,  0,\n",
       "        0,  0, -1, -1,  0, -1, -1,  0,  0, -1,  0,  0,  0,  0, -1, -1,  0,\n",
       "       -1,  0,  0,  0,  0,  0, -1, -1,  0,  0,  0, -1,  0, -1,  0,  0,  0,\n",
       "        0,  0,  0, -1,  0,  0,  0,  0,  0,  0,  0, -1,  0,  0,  0,  0, -1,\n",
       "        0, -1, -1, -1,  0,  0,  0, -1,  0,  0,  0,  0,  0,  0,  0, -1,  0,\n",
       "        0,  0,  0,  0,  0,  0,  0, -1,  0, -1,  0,  0, -1,  0,  0, -1,  0,\n",
       "        0, -1,  0,  0,  0,  0,  0, -1,  0,  0,  0,  0], dtype=int64)"
      ]
     },
     "execution_count": 35,
     "metadata": {},
     "output_type": "execute_result"
    }
   ],
   "source": [
    "dbscan_euclidean = DBSCAN(eps=0.3, min_samples =3, metric=\"euclidean\")\n",
    "dbscan_euclidean.fit(tf_idf_matrix_complete)\n",
    "print(len(dbscan_euclidean.labels_))\n",
    "dbscan_euclidean.labels_"
   ]
  },
  {
   "cell_type": "code",
   "execution_count": 36,
   "metadata": {},
   "outputs": [
    {
     "name": "stdout",
     "output_type": "stream",
     "text": [
      "[ 0  0  0  0  0 -1  0  0  0 -1 -1  0 -1 -1  0 -1  0  0 -1 -1  0  0 -1 -1\n",
      "  0  0 -1 -1 -1  0  0 -1  0 -1 -1  0 -1  0  0  0 -1  0  0 -1 -1  0 -1  0\n",
      "  0  0  0 -1  0  0  0 -1 -1 -1 -1  0  0  0  0  0 -1  0 -1 -1 -1  0 -1  0\n",
      " -1  0  0  0 -1 -1  0  0 -1  0  0  0  0  0  0 -1 -1  0 -1 -1  0  0 -1  0\n",
      "  0  0  0 -1 -1  0 -1  0  0  0  0  0 -1 -1  0  0  0 -1  0 -1  0  0  0  0\n",
      "  0  0 -1  0  0  0  0  0  0  0 -1  0  0  0  0 -1  0 -1 -1 -1  0  0  0 -1\n",
      "  0  0  0  0  0  0  0 -1  0  0  0  0  0  0  0  0 -1  0 -1  0  0 -1  0  0\n",
      " -1  0  0 -1  0  0  0  0  0 -1  0  0  0  0]\n",
      "182\n",
      "[ 0  0  0  0  0 -1  0  0  0  0  0  0  0  0 -1  0 -1  0  0 -1  0  0 -1  0\n",
      "  0 -1  0  0  0  0  0 -1  0  0  0  0]\n",
      "36\n",
      "[ 0  0  0  0  0 -1  0  0  0 -1 -1  0 -1 -1  0 -1  0  0 -1 -1  0  0 -1 -1\n",
      "  0  0 -1 -1 -1  0  0 -1  0 -1 -1  0 -1  0  0  0 -1  0  0 -1 -1  0 -1  0\n",
      "  0  0  0 -1  0  0  0 -1 -1 -1 -1  0  0  0  0  0 -1  0 -1 -1 -1  0 -1  0\n",
      " -1  0  0  0 -1 -1  0  0 -1  0  0  0  0  0  0 -1 -1  0 -1 -1  0  0 -1  0\n",
      "  0  0  0 -1 -1  0 -1  0  0  0  0  0 -1 -1  0  0  0 -1  0 -1  0  0  0  0\n",
      "  0  0 -1  0  0  0  0  0  0  0 -1  0  0  0  0 -1  0 -1 -1 -1  0  0  0 -1\n",
      "  0  0]\n",
      "146\n",
      "[ 0  0  0  0  0 -1  0  0  0 -1 -1  0 -1 -1  0 -1  0  0 -1 -1  0  0 -1 -1\n",
      "  0  0 -1 -1 -1  0  0 -1  0 -1 -1  0 -1  0  0  0 -1  0  0 -1 -1  0 -1  0\n",
      "  0 -1  0 -1  0 -1  0 -1 -1 -1 -1  0  0  0  0  0 -1  0 -1 -1 -1  0 -1  0\n",
      " -1  0  0  0 -1 -1  0  0 -1  0  0  0  0  0  0 -1 -1  0 -1 -1  0  0 -1  0\n",
      "  0  0  0 -1 -1  0 -1  0  0  0  0  0 -1 -1 -1  0  0 -1  0 -1  0  0  0  0\n",
      "  0  0 -1  0  0  0  0  0  0  0 -1  0  0  0  0 -1  0 -1 -1 -1  0  0  0 -1\n",
      "  0  0]\n"
     ]
    },
    {
     "data": {
      "text/html": [
       "<style>#sk-container-id-1 {color: black;}#sk-container-id-1 pre{padding: 0;}#sk-container-id-1 div.sk-toggleable {background-color: white;}#sk-container-id-1 label.sk-toggleable__label {cursor: pointer;display: block;width: 100%;margin-bottom: 0;padding: 0.3em;box-sizing: border-box;text-align: center;}#sk-container-id-1 label.sk-toggleable__label-arrow:before {content: \"▸\";float: left;margin-right: 0.25em;color: #696969;}#sk-container-id-1 label.sk-toggleable__label-arrow:hover:before {color: black;}#sk-container-id-1 div.sk-estimator:hover label.sk-toggleable__label-arrow:before {color: black;}#sk-container-id-1 div.sk-toggleable__content {max-height: 0;max-width: 0;overflow: hidden;text-align: left;background-color: #f0f8ff;}#sk-container-id-1 div.sk-toggleable__content pre {margin: 0.2em;color: black;border-radius: 0.25em;background-color: #f0f8ff;}#sk-container-id-1 input.sk-toggleable__control:checked~div.sk-toggleable__content {max-height: 200px;max-width: 100%;overflow: auto;}#sk-container-id-1 input.sk-toggleable__control:checked~label.sk-toggleable__label-arrow:before {content: \"▾\";}#sk-container-id-1 div.sk-estimator input.sk-toggleable__control:checked~label.sk-toggleable__label {background-color: #d4ebff;}#sk-container-id-1 div.sk-label input.sk-toggleable__control:checked~label.sk-toggleable__label {background-color: #d4ebff;}#sk-container-id-1 input.sk-hidden--visually {border: 0;clip: rect(1px 1px 1px 1px);clip: rect(1px, 1px, 1px, 1px);height: 1px;margin: -1px;overflow: hidden;padding: 0;position: absolute;width: 1px;}#sk-container-id-1 div.sk-estimator {font-family: monospace;background-color: #f0f8ff;border: 1px dotted black;border-radius: 0.25em;box-sizing: border-box;margin-bottom: 0.5em;}#sk-container-id-1 div.sk-estimator:hover {background-color: #d4ebff;}#sk-container-id-1 div.sk-parallel-item::after {content: \"\";width: 100%;border-bottom: 1px solid gray;flex-grow: 1;}#sk-container-id-1 div.sk-label:hover label.sk-toggleable__label {background-color: #d4ebff;}#sk-container-id-1 div.sk-serial::before {content: \"\";position: absolute;border-left: 1px solid gray;box-sizing: border-box;top: 0;bottom: 0;left: 50%;z-index: 0;}#sk-container-id-1 div.sk-serial {display: flex;flex-direction: column;align-items: center;background-color: white;padding-right: 0.2em;padding-left: 0.2em;position: relative;}#sk-container-id-1 div.sk-item {position: relative;z-index: 1;}#sk-container-id-1 div.sk-parallel {display: flex;align-items: stretch;justify-content: center;background-color: white;position: relative;}#sk-container-id-1 div.sk-item::before, #sk-container-id-1 div.sk-parallel-item::before {content: \"\";position: absolute;border-left: 1px solid gray;box-sizing: border-box;top: 0;bottom: 0;left: 50%;z-index: -1;}#sk-container-id-1 div.sk-parallel-item {display: flex;flex-direction: column;z-index: 1;position: relative;background-color: white;}#sk-container-id-1 div.sk-parallel-item:first-child::after {align-self: flex-end;width: 50%;}#sk-container-id-1 div.sk-parallel-item:last-child::after {align-self: flex-start;width: 50%;}#sk-container-id-1 div.sk-parallel-item:only-child::after {width: 0;}#sk-container-id-1 div.sk-dashed-wrapped {border: 1px dashed gray;margin: 0 0.4em 0.5em 0.4em;box-sizing: border-box;padding-bottom: 0.4em;background-color: white;}#sk-container-id-1 div.sk-label label {font-family: monospace;font-weight: bold;display: inline-block;line-height: 1.2em;}#sk-container-id-1 div.sk-label-container {text-align: center;}#sk-container-id-1 div.sk-container {/* jupyter's `normalize.less` sets `[hidden] { display: none; }` but bootstrap.min.css set `[hidden] { display: none !important; }` so we also need the `!important` here to be able to override the default hidden behavior on the sphinx rendered scikit-learn.org. See: https://github.com/scikit-learn/scikit-learn/issues/21755 */display: inline-block !important;position: relative;}#sk-container-id-1 div.sk-text-repr-fallback {display: none;}</style><div id=\"sk-container-id-1\" class=\"sk-top-container\"><div class=\"sk-text-repr-fallback\"><pre>DBSCAN(eps=0.3, min_samples=3)</pre><b>In a Jupyter environment, please rerun this cell to show the HTML representation or trust the notebook. <br />On GitHub, the HTML representation is unable to render, please try loading this page with nbviewer.org.</b></div><div class=\"sk-container\" hidden><div class=\"sk-item\"><div class=\"sk-estimator sk-toggleable\"><input class=\"sk-toggleable__control sk-hidden--visually\" id=\"sk-estimator-id-1\" type=\"checkbox\" checked><label for=\"sk-estimator-id-1\" class=\"sk-toggleable__label sk-toggleable__label-arrow\">DBSCAN</label><div class=\"sk-toggleable__content\"><pre>DBSCAN(eps=0.3, min_samples=3)</pre></div></div></div></div></div>"
      ],
      "text/plain": [
       "DBSCAN(eps=0.3, min_samples=3)"
      ]
     },
     "execution_count": 36,
     "metadata": {},
     "output_type": "execute_result"
    }
   ],
   "source": [
    "print(dbscan_euclidean.labels_)\n",
    "print(len(dbscan_euclidean.labels_))\n",
    "\n",
    "test_clusters = dbscan_euclidean.labels_[-36:]\n",
    "print(test_clusters)\n",
    "print(len(test_clusters))\n",
    "train_clusters = dbscan_euclidean.labels_[:-36]\n",
    "print(train_clusters)\n",
    "print(len(train_clusters))\n",
    "dbscan_euclidean = DBSCAN(eps=0.3, min_samples =3, metric=\"euclidean\")\n",
    "dbscan_euclidean.fit(tfidf_matrix_train)\n",
    "print(dbscan_euclidean.labels_)\n",
    "\n",
    "dbscan_euclidean = DBSCAN(eps=0.3, min_samples =3, metric=\"euclidean\")\n",
    "dbscan_euclidean.fit(tf_idf_matrix_complete)"
   ]
  },
  {
   "cell_type": "code",
   "execution_count": 37,
   "metadata": {},
   "outputs": [
    {
     "name": "stdout",
     "output_type": "stream",
     "text": [
      "0\n"
     ]
    },
    {
     "data": {
      "text/plain": [
       "[]"
      ]
     },
     "execution_count": 37,
     "metadata": {},
     "output_type": "execute_result"
    }
   ],
   "source": [
    "dbscan_euclidean_Class_1 = [i for i, x in enumerate(dbscan_euclidean.labels_) if x == 1]\n",
    "dbscan_euclidean_Class_0 = [i for i, x in enumerate(dbscan_euclidean.labels_) if x == 0]\n",
    "dbscan_euclidean_Class_2 = [i for i, x in enumerate(dbscan_euclidean.labels_) if x == 2]\n",
    "dbscan_euclidean_Class_11 = [i for i, x in enumerate(dbscan_euclidean.labels_) if x == -1]\n",
    "print(len(dbscan_euclidean_Class_1))\n",
    "dbscan_euclidean_Class_1"
   ]
  },
  {
   "cell_type": "code",
   "execution_count": 38,
   "metadata": {},
   "outputs": [
    {
     "data": {
      "text/plain": [
       "182"
      ]
     },
     "execution_count": 38,
     "metadata": {},
     "output_type": "execute_result"
    }
   ],
   "source": [
    "#df_train[\"label\"]\n",
    "#df_train['tfidf']\n",
    "#tfidf_matrix_train.shape\n",
    "all_labels = list(df_train['label']) + (list(df_test['label']))\n",
    "len(all_labels)"
   ]
  },
  {
   "cell_type": "code",
   "execution_count": 39,
   "metadata": {},
   "outputs": [
    {
     "name": "stdout",
     "output_type": "stream",
     "text": [
      "Real:\n",
      "0\n",
      "Fake:\n",
      "0\n"
     ]
    }
   ],
   "source": [
    "dbscan_euclidean_Class_1_labels = np.array(all_labels)[dbscan_euclidean_Class_1]\n",
    "dbscan_euclidean_Class_1_labels\n",
    "print('Real:')\n",
    "print(np.count_nonzero(dbscan_euclidean_Class_1_labels == \"real\"))\n",
    "print('Fake:')\n",
    "print(np.count_nonzero(dbscan_euclidean_Class_1_labels == \"fake\"))"
   ]
  },
  {
   "cell_type": "code",
   "execution_count": 40,
   "metadata": {},
   "outputs": [
    {
     "name": "stdout",
     "output_type": "stream",
     "text": [
      "Real:\n",
      "56\n",
      "Fake:\n",
      "65\n"
     ]
    },
    {
     "data": {
      "text/plain": [
       "[0,\n",
       " 1,\n",
       " 2,\n",
       " 3,\n",
       " 4,\n",
       " 6,\n",
       " 7,\n",
       " 8,\n",
       " 11,\n",
       " 14,\n",
       " 16,\n",
       " 17,\n",
       " 20,\n",
       " 21,\n",
       " 24,\n",
       " 25,\n",
       " 29,\n",
       " 30,\n",
       " 32,\n",
       " 35,\n",
       " 37,\n",
       " 38,\n",
       " 39,\n",
       " 41,\n",
       " 42,\n",
       " 45,\n",
       " 47,\n",
       " 48,\n",
       " 49,\n",
       " 50,\n",
       " 52,\n",
       " 53,\n",
       " 54,\n",
       " 59,\n",
       " 60,\n",
       " 61,\n",
       " 62,\n",
       " 63,\n",
       " 65,\n",
       " 69,\n",
       " 71,\n",
       " 73,\n",
       " 74,\n",
       " 75,\n",
       " 78,\n",
       " 79,\n",
       " 81,\n",
       " 82,\n",
       " 83,\n",
       " 84,\n",
       " 85,\n",
       " 86,\n",
       " 89,\n",
       " 92,\n",
       " 93,\n",
       " 95,\n",
       " 96,\n",
       " 97,\n",
       " 98,\n",
       " 101,\n",
       " 103,\n",
       " 104,\n",
       " 105,\n",
       " 106,\n",
       " 107,\n",
       " 110,\n",
       " 111,\n",
       " 112,\n",
       " 114,\n",
       " 116,\n",
       " 117,\n",
       " 118,\n",
       " 119,\n",
       " 120,\n",
       " 121,\n",
       " 123,\n",
       " 124,\n",
       " 125,\n",
       " 126,\n",
       " 127,\n",
       " 128,\n",
       " 129,\n",
       " 131,\n",
       " 132,\n",
       " 133,\n",
       " 134,\n",
       " 136,\n",
       " 140,\n",
       " 141,\n",
       " 142,\n",
       " 144,\n",
       " 145,\n",
       " 146,\n",
       " 147,\n",
       " 148,\n",
       " 149,\n",
       " 150,\n",
       " 152,\n",
       " 153,\n",
       " 154,\n",
       " 155,\n",
       " 156,\n",
       " 157,\n",
       " 158,\n",
       " 159,\n",
       " 161,\n",
       " 163,\n",
       " 164,\n",
       " 166,\n",
       " 167,\n",
       " 169,\n",
       " 170,\n",
       " 172,\n",
       " 173,\n",
       " 174,\n",
       " 175,\n",
       " 176,\n",
       " 178,\n",
       " 179,\n",
       " 180,\n",
       " 181]"
      ]
     },
     "execution_count": 40,
     "metadata": {},
     "output_type": "execute_result"
    }
   ],
   "source": [
    "dbscan_euclidean_Class_0_labels = np.array(all_labels)[dbscan_euclidean_Class_0]\n",
    "dbscan_euclidean_Class_0_labels\n",
    "print('Real:')\n",
    "print(np.count_nonzero(dbscan_euclidean_Class_0_labels == \"real\"))\n",
    "print('Fake:')\n",
    "print(np.count_nonzero(dbscan_euclidean_Class_0_labels == \"fake\"))\n",
    "dbscan_euclidean_Class_0"
   ]
  },
  {
   "cell_type": "code",
   "execution_count": 41,
   "metadata": {},
   "outputs": [
    {
     "name": "stdout",
     "output_type": "stream",
     "text": [
      "Real:\n",
      "0\n",
      "Fake:\n",
      "0\n"
     ]
    }
   ],
   "source": [
    "dbscan_euclidean_Class_2_labels = np.array(all_labels)[dbscan_euclidean_Class_2]\n",
    "dbscan_euclidean_Class_2_labels\n",
    "print('Real:')\n",
    "print(np.count_nonzero(dbscan_euclidean_Class_2_labels == \"real\"))\n",
    "print('Fake:')\n",
    "print(np.count_nonzero(dbscan_euclidean_Class_2_labels == \"fake\"))"
   ]
  },
  {
   "cell_type": "code",
   "execution_count": 42,
   "metadata": {},
   "outputs": [
    {
     "name": "stdout",
     "output_type": "stream",
     "text": [
      "Real:\n",
      "35\n",
      "Fake:\n",
      "26\n"
     ]
    }
   ],
   "source": [
    "dbscan_euclidean_Class_11_labels = np.array(all_labels)[dbscan_euclidean_Class_11]\n",
    "dbscan_euclidean_Class_11_labels\n",
    "print('Real:')\n",
    "print(np.count_nonzero(dbscan_euclidean_Class_11_labels == \"real\"))\n",
    "print('Fake:')\n",
    "print(np.count_nonzero(dbscan_euclidean_Class_11_labels == \"fake\"))"
   ]
  },
  {
   "cell_type": "code",
   "execution_count": 43,
   "metadata": {},
   "outputs": [
    {
     "ename": "IndexError",
     "evalue": "index 151 is out of bounds for axis 0 with size 146",
     "output_type": "error",
     "traceback": [
      "\u001b[1;31m---------------------------------------------------------------------------\u001b[0m",
      "\u001b[1;31mIndexError\u001b[0m                                Traceback (most recent call last)",
      "\u001b[1;32md:\\shared\\DTU\\9. Semester\\Computational_Tools_for_Data_Science\\Project\\Alex_Branch\\02807_CompTools_Project\\notebooks\\clustering Alex.ipynb Cell 33\u001b[0m line \u001b[0;36m4\n\u001b[0;32m      <a href='vscode-notebook-cell:/d%3A/shared/DTU/9.%20Semester/Computational_Tools_for_Data_Science/Project/Alex_Branch/02807_CompTools_Project/notebooks/clustering%20Alex.ipynb#X44sZmlsZQ%3D%3D?line=1'>2</a>\u001b[0m tfidf_matrix_train\u001b[39m.\u001b[39mshape\n\u001b[0;32m      <a href='vscode-notebook-cell:/d%3A/shared/DTU/9.%20Semester/Computational_Tools_for_Data_Science/Project/Alex_Branch/02807_CompTools_Project/notebooks/clustering%20Alex.ipynb#X44sZmlsZQ%3D%3D?line=2'>3</a>\u001b[0m y \u001b[39m=\u001b[39m dbscan_euclidean_Class_11_labels\n\u001b[1;32m----> <a href='vscode-notebook-cell:/d%3A/shared/DTU/9.%20Semester/Computational_Tools_for_Data_Science/Project/Alex_Branch/02807_CompTools_Project/notebooks/clustering%20Alex.ipynb#X44sZmlsZQ%3D%3D?line=3'>4</a>\u001b[0m X \u001b[39m=\u001b[39m tfidf_matrix_train[dbscan_euclidean_Class_11]\n\u001b[0;32m      <a href='vscode-notebook-cell:/d%3A/shared/DTU/9.%20Semester/Computational_Tools_for_Data_Science/Project/Alex_Branch/02807_CompTools_Project/notebooks/clustering%20Alex.ipynb#X44sZmlsZQ%3D%3D?line=4'>5</a>\u001b[0m clf \u001b[39m=\u001b[39m RandomForestClassifier(n_estimators\u001b[39m=\u001b[39m\u001b[39m100\u001b[39m, random_state\u001b[39m=\u001b[39m\u001b[39m42\u001b[39m)\n\u001b[0;32m      <a href='vscode-notebook-cell:/d%3A/shared/DTU/9.%20Semester/Computational_Tools_for_Data_Science/Project/Alex_Branch/02807_CompTools_Project/notebooks/clustering%20Alex.ipynb#X44sZmlsZQ%3D%3D?line=5'>6</a>\u001b[0m \u001b[39mprint\u001b[39m(X\u001b[39m.\u001b[39mshape)\n",
      "\u001b[1;31mIndexError\u001b[0m: index 151 is out of bounds for axis 0 with size 146"
     ]
    }
   ],
   "source": [
    "from sklearn.ensemble import RandomForestClassifier\n",
    "tfidf_matrix_train.shape\n",
    "y = dbscan_euclidean_Class_11_labels\n",
    "X = tfidf_matrix_train[dbscan_euclidean_Class_11]\n",
    "clf = RandomForestClassifier(n_estimators=100, random_state=42)\n",
    "print(X.shape)\n",
    "print(y.shape)\n",
    "clf.fit(X, y)"
   ]
  },
  {
   "cell_type": "code",
   "execution_count": null,
   "metadata": {},
   "outputs": [
    {
     "name": "stdout",
     "output_type": "stream",
     "text": [
      "(146, 6303)\n",
      "(36, 6303)\n"
     ]
    }
   ],
   "source": [
    "print(tfidf_matrix_train.shape)\n",
    "print(tfidf_matrix_test.shape)"
   ]
  },
  {
   "cell_type": "code",
   "execution_count": null,
   "metadata": {},
   "outputs": [
    {
     "data": {
      "text/plain": [
       "array([[ True,  True,  True, ...,  True,  True,  True],\n",
       "       [ True,  True,  True, ...,  True,  True,  True],\n",
       "       [ True,  True,  True, ...,  True,  True,  True],\n",
       "       ...,\n",
       "       [ True,  True,  True, ...,  True,  True,  True],\n",
       "       [ True,  True,  True, ...,  True,  True,  True],\n",
       "       [ True,  True,  True, ...,  True,  True,  True]])"
      ]
     },
     "execution_count": 286,
     "metadata": {},
     "output_type": "execute_result"
    }
   ],
   "source": [
    "#tf_idf_matrix_complete = np.vstack((tfidf_matrix_train, tfidf_matrix_test))\n",
    "#tf_idf_matrix_test_subset.shape\n",
    "#tf_idf_matrix_test_subset == tfidf_matrix_test"
   ]
  },
  {
   "cell_type": "code",
   "execution_count": null,
   "metadata": {},
   "outputs": [
    {
     "data": {
      "text/plain": [
       "array(['fake', 'fake', 'fake', 'real', 'real', 'real', 'real', 'real',\n",
       "       'real', 'real', 'fake', 'real', 'real', 'fake', 'fake', 'real',\n",
       "       'real', 'real', 'real', 'real', 'real', 'real', 'real', 'real',\n",
       "       'real', 'fake', 'fake', 'real', 'fake', 'real', 'fake', 'real',\n",
       "       'fake', 'real', 'real', 'real', 'real', 'real', 'real', 'real',\n",
       "       'real', 'fake', 'real', 'fake', 'real', 'fake', 'fake', 'real',\n",
       "       'real', 'fake', 'real', 'real', 'fake', 'real', 'fake', 'fake',\n",
       "       'real', 'fake', 'fake', 'fake', 'fake', 'fake', 'fake', 'real',\n",
       "       'fake', 'fake', 'real', 'fake', 'real', 'real', 'real', 'real',\n",
       "       'real', 'fake', 'real', 'fake', 'fake', 'real', 'fake', 'fake',\n",
       "       'fake', 'fake', 'real', 'fake', 'fake', 'fake', 'fake', 'real',\n",
       "       'fake'], dtype='<U4')"
      ]
     },
     "execution_count": 272,
     "metadata": {},
     "output_type": "execute_result"
    }
   ],
   "source": [
    "x_new = tfidf_matrix_train[dbscan_euclidean_Class_0]\n",
    "clf.predict(x_new)"
   ]
  },
  {
   "cell_type": "markdown",
   "metadata": {},
   "source": [
    "***Agglomerative Clustering***"
   ]
  },
  {
   "cell_type": "code",
   "execution_count": null,
   "metadata": {},
   "outputs": [
    {
     "data": {
      "text/plain": [
       "array([2, 2, 2, 2, 2, 1, 2, 2, 2, 2, 2, 2, 1, 2, 2, 2, 2, 2, 2, 2, 2, 2,\n",
       "       0, 2, 2, 2, 2, 2, 2, 2, 2, 0, 2, 2, 2, 2, 2, 2, 2, 2, 2, 2, 2, 2,\n",
       "       2, 2, 0, 2, 2, 2, 2, 2, 2, 2, 2, 2, 2, 2, 0, 2, 2, 2, 2, 2, 1, 2,\n",
       "       2, 2, 0, 2, 2, 2, 2, 1, 1, 1, 0, 2, 1, 2, 0, 2, 2, 1, 1, 2, 2, 2,\n",
       "       1, 2, 2, 2, 2, 2, 2, 2, 2, 2, 1, 0, 1, 2, 1, 2, 1, 2, 2, 2, 2, 2,\n",
       "       1, 1, 2, 2, 2, 2, 2, 2, 2, 2, 2, 1, 2, 2, 2, 2, 2, 2, 1, 2, 2, 2,\n",
       "       1, 2, 1, 1, 2, 2, 1, 2, 1, 2, 2, 2, 2, 1], dtype=int64)"
      ]
     },
     "execution_count": 273,
     "metadata": {},
     "output_type": "execute_result"
    }
   ],
   "source": [
    "from sklearn.cluster import AgglomerativeClustering\n",
    "hierarchical_cosine = AgglomerativeClustering(n_clusters=3, linkage='complete', metric='cosine')\n",
    "hierarchical_cosine.fit(tfidf_matrix_train)\n",
    "hierarchical_cosine.labels_"
   ]
  },
  {
   "cell_type": "code",
   "execution_count": null,
   "metadata": {},
   "outputs": [],
   "source": [
    "hierarchical_cosine_Class_1 = [i for i, x in enumerate(hierarchical_cosine.labels_) if x == 1]\n",
    "hierarchical_cosine_Class_0 = [i for i, x in enumerate(hierarchical_cosine.labels_) if x == 0]\n",
    "hierarchical_cosine_Class_2 = [i for i, x in enumerate(hierarchical_cosine.labels_) if x == 2]\n",
    "hierarchical_cosine_Class_11 = [i for i, x in enumerate(hierarchical_cosine.labels_) if x == -1]"
   ]
  },
  {
   "cell_type": "code",
   "execution_count": null,
   "metadata": {},
   "outputs": [
    {
     "data": {
      "text/plain": [
       "8"
      ]
     },
     "execution_count": 275,
     "metadata": {},
     "output_type": "execute_result"
    }
   ],
   "source": [
    "len(hierarchical_cosine_Class_0)"
   ]
  },
  {
   "cell_type": "code",
   "execution_count": null,
   "metadata": {},
   "outputs": [
    {
     "name": "stdout",
     "output_type": "stream",
     "text": [
      "Real:\n",
      "3\n",
      "Fake:\n",
      "21\n"
     ]
    }
   ],
   "source": [
    "hierarchical_cosine_Class_1_labels = np.array(list(df_train[\"label\"]))[hierarchical_cosine_Class_1]\n",
    "hierarchical_cosine_Class_1_labels\n",
    "print('Real:')\n",
    "print(np.count_nonzero(hierarchical_cosine_Class_1_labels == \"real\"))\n",
    "print('Fake:')\n",
    "print(np.count_nonzero(hierarchical_cosine_Class_1_labels == \"fake\"))"
   ]
  },
  {
   "cell_type": "code",
   "execution_count": null,
   "metadata": {},
   "outputs": [
    {
     "name": "stdout",
     "output_type": "stream",
     "text": [
      "Real:\n",
      "5\n",
      "Fake:\n",
      "3\n"
     ]
    }
   ],
   "source": [
    "hierarchical_cosine_Class_0_labels = np.array(list(df_train[\"label\"]))[hierarchical_cosine_Class_0]\n",
    "hierarchical_cosine_Class_0_labels\n",
    "print('Real:')\n",
    "print(np.count_nonzero(hierarchical_cosine_Class_0_labels == \"real\"))\n",
    "print('Fake:')\n",
    "print(np.count_nonzero(hierarchical_cosine_Class_0_labels == \"fake\"))"
   ]
  },
  {
   "cell_type": "code",
   "execution_count": null,
   "metadata": {},
   "outputs": [
    {
     "name": "stdout",
     "output_type": "stream",
     "text": [
      "Real:\n",
      "65\n",
      "Fake:\n",
      "49\n"
     ]
    }
   ],
   "source": [
    "hierarchical_cosine_Class_2_labels = np.array(list(df_train[\"label\"]))[hierarchical_cosine_Class_2]\n",
    "print('Real:')\n",
    "print(np.count_nonzero(hierarchical_cosine_Class_2_labels == \"real\"))\n",
    "print('Fake:')\n",
    "print(np.count_nonzero(hierarchical_cosine_Class_2_labels == \"fake\"))\n",
    "#hierarchical_cosine_Class_2_labels"
   ]
  }
 ],
 "metadata": {
  "kernelspec": {
   "display_name": "CompTools",
   "language": "python",
   "name": "python3"
  },
  "language_info": {
   "codemirror_mode": {
    "name": "ipython",
    "version": 3
   },
   "file_extension": ".py",
   "mimetype": "text/x-python",
   "name": "python",
   "nbconvert_exporter": "python",
   "pygments_lexer": "ipython3",
   "version": "3.10.13"
  },
  "orig_nbformat": 4
 },
 "nbformat": 4,
 "nbformat_minor": 2
}
