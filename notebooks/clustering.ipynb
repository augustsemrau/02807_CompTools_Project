{
 "cells": [
  {
   "cell_type": "code",
   "execution_count": 113,
   "metadata": {},
   "outputs": [],
   "source": [
    "import pandas as pd\n",
    "from collections import Counter\n",
    "import math\n",
    "import re\n",
    "import nltk\n",
    "from nltk.stem import PorterStemmer\n",
    "from nltk.corpus import stopwords\n",
    "import pandas as pd\n"
   ]
  },
  {
   "cell_type": "markdown",
   "metadata": {},
   "source": [
    "## Load the data"
   ]
  },
  {
   "cell_type": "code",
   "execution_count": 118,
   "metadata": {},
   "outputs": [],
   "source": [
    "\n",
    "\n",
    "# Load fake and real news datasets\n",
    "pf_fake = pd.read_csv(\"../data/raw/PolitiFact_fake_news_content.csv\")\n",
    "pf_real = pd.read_csv(\"../data/raw/PolitiFact_real_news_content.csv\")\n",
    "\n",
    "# Concatenate them into a full dataset\n",
    "df_full = pd.concat([pf_real, pf_fake], ignore_index=True)\n",
    "\n",
    "# Append news_id from PolitiFactNews.txt\n",
    "with open('../data/raw/PolitiFactNews.txt', 'r') as file:\n",
    "    news_ids = [line.strip() for line in file]\n",
    "\n",
    "df_full[\"news_id\"] = news_ids\n",
    "\n",
    "# Load train and test id's\n",
    "with open('../data/processed/FakeNewsNet/trainIds.txt', 'r') as file:\n",
    "    train_values = [line.strip() for line in file]\n",
    "with open('../data/processed/FakeNewsNet/testIds.txt', 'r') as file:\n",
    "    test_values = [line.strip() for line in file]\n",
    "\n",
    "# Create train and test data sets\n",
    "df_train = df_full[df_full['news_id'].isin(train_values)]\n",
    "df_test = df_full[df_full['news_id'].isin(test_values)]\n",
    "\n",
    "df_train.to_csv(\"../data/processed/FakeNewsNet/train_df.csv\")\n",
    "df_test.to_csv(\"../data/processed/FakeNewsNet/test_df.csv\")"
   ]
  },
  {
   "cell_type": "markdown",
   "metadata": {},
   "source": [
    "## Creating a TF-IDF representation."
   ]
  },
  {
   "cell_type": "code",
   "execution_count": 50,
   "metadata": {},
   "outputs": [
    {
     "name": "stderr",
     "output_type": "stream",
     "text": [
      "[nltk_data] Downloading package stopwords to\n",
      "[nltk_data]     C:\\Users\\Lasse\\AppData\\Roaming\\nltk_data...\n",
      "[nltk_data]   Package stopwords is already up-to-date!\n"
     ]
    },
    {
     "name": "stdout",
     "output_type": "stream",
     "text": [
      "0      {'mud': 0.0, 'seriou': 0.0, 'beyond': 0.0, 'fl...\n",
      "1      {'mud': 0.0, 'seriou': 0.0, 'beyond': 0.0, 'fl...\n",
      "2      {'mud': 0.0, 'seriou': 0.0, 'beyond': 0.0, 'fl...\n",
      "3      {'mud': 0.0, 'seriou': 0.0, 'beyond': 0.0, 'fl...\n",
      "4      {'mud': 0.0, 'seriou': 0.0, 'beyond': 0.0, 'fl...\n",
      "                             ...                        \n",
      "115    {'mud': 0.0, 'seriou': 0.0, 'beyond': 0.0, 'fl...\n",
      "116    {'mud': 0.0, 'seriou': 0.0, 'beyond': 0.0, 'fl...\n",
      "117    {'mud': 0.0, 'seriou': 0.002206360447568847, '...\n",
      "118    {'mud': 0.0, 'seriou': 0.0, 'beyond': 0.0, 'fl...\n",
      "119    {'mud': 0.0, 'seriou': 0.0, 'beyond': 0.0, 'fl...\n",
      "Name: tfidf, Length: 120, dtype: object\n"
     ]
    }
   ],
   "source": [
    "\n",
    "# Download the stopwords dataset\n",
    "nltk.download('stopwords')\n",
    "\n",
    "def tokenize(text, stemmer, stop_words):\n",
    "    \"\"\"Tokenize text, stem, and remove stop words.\"\"\"\n",
    "    tokens = re.findall(r'\\b\\w+\\b', text.lower())\n",
    "    return [stemmer.stem(token) for token in tokens if token not in stop_words]\n",
    "\n",
    "def compute_tfidf(df, column_name):\n",
    "    stemmer = PorterStemmer()\n",
    "    stop_words = set(stopwords.words('english'))\n",
    "\n",
    "    # Tokenize, stem and compute term frequency for each document\n",
    "    df['tf'] = df[column_name].apply(lambda x: Counter(tokenize(x, stemmer, stop_words)))\n",
    "\n",
    "    # Create a list of all unique words in the corpus\n",
    "    all_unique_words = list(set(word for tf in df['tf'] for word in tf.keys()))\n",
    "\n",
    "    # Compute the number of documents in which each word appears\n",
    "    word_document_count = Counter(word for tf in df['tf'] for word in tf.keys())\n",
    "\n",
    "    # Compute the total number of documents\n",
    "    total_documents = len(df)\n",
    "\n",
    "    # Compute inverse document frequency for each word\n",
    "    idf = {word: math.log(total_documents / count) for word, count in word_document_count.items()}\n",
    "\n",
    "    # Compute TF-IDF for each word in each document and ensure that all words in the corpus are represented\n",
    "    def calculate_tfidf(tf):\n",
    "        return {word: tf.get(word, 0)/sum(tf.values()) * idf[word] for word in all_unique_words}\n",
    "\n",
    "    df['tfidf'] = df['tf'].apply(calculate_tfidf)\n",
    "\n",
    "    return df['tfidf']\n",
    "\n",
    "\n",
    "tfidf_scores = compute_tfidf(pf_fake, 'full_text')\n",
    "\n"
   ]
  },
  {
   "cell_type": "code",
   "execution_count": null,
   "metadata": {},
   "outputs": [],
   "source": []
  }
 ],
 "metadata": {
  "kernelspec": {
   "display_name": "CompTools",
   "language": "python",
   "name": "python3"
  },
  "language_info": {
   "codemirror_mode": {
    "name": "ipython",
    "version": 3
   },
   "file_extension": ".py",
   "mimetype": "text/x-python",
   "name": "python",
   "nbconvert_exporter": "python",
   "pygments_lexer": "ipython3",
   "version": "3.9.6"
  },
  "orig_nbformat": 4
 },
 "nbformat": 4,
 "nbformat_minor": 2
}
