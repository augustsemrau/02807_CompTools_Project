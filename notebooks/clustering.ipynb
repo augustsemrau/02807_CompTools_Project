{
 "cells": [
  {
   "cell_type": "code",
   "execution_count": 1,
   "metadata": {},
   "outputs": [],
   "source": [
    "import pandas as pd"
   ]
  },
  {
   "cell_type": "code",
   "execution_count": 3,
   "metadata": {},
   "outputs": [],
   "source": [
    "pf_fake = pd.read_csv(r\"C:\\Users\\Lasse\\Desktop\\DTU\\Kandidat\\1. semester\\Computational tools for data science\\Project\\02807_CompTools_Project\\data\\raw\\PolitiFact_fake_news_content.csv\")"
   ]
  },
  {
   "cell_type": "code",
   "execution_count": 11,
   "metadata": {},
   "outputs": [
    {
     "data": {
      "text/html": [
       "<div>\n",
       "<style scoped>\n",
       "    .dataframe tbody tr th:only-of-type {\n",
       "        vertical-align: middle;\n",
       "    }\n",
       "\n",
       "    .dataframe tbody tr th {\n",
       "        vertical-align: top;\n",
       "    }\n",
       "\n",
       "    .dataframe thead th {\n",
       "        text-align: right;\n",
       "    }\n",
       "</style>\n",
       "<table border=\"1\" class=\"dataframe\">\n",
       "  <thead>\n",
       "    <tr style=\"text-align: right;\">\n",
       "      <th></th>\n",
       "      <th>id</th>\n",
       "      <th>title</th>\n",
       "      <th>text</th>\n",
       "      <th>url</th>\n",
       "      <th>top_img</th>\n",
       "      <th>authors</th>\n",
       "      <th>source</th>\n",
       "      <th>publish_date</th>\n",
       "      <th>movies</th>\n",
       "      <th>images</th>\n",
       "      <th>canonical_link</th>\n",
       "      <th>meta_data</th>\n",
       "    </tr>\n",
       "  </thead>\n",
       "  <tbody>\n",
       "    <tr>\n",
       "      <th>0</th>\n",
       "      <td>Real_1-Webpage</td>\n",
       "      <td>Trump Just Insulted Millions Who Lost Everythi...</td>\n",
       "      <td>16.8k SHARES SHARE THIS STORY\\n\\nHillary Clint...</td>\n",
       "      <td>http://occupydemocrats.com/2016/09/27/trump-ju...</td>\n",
       "      <td>http://occupydemocrats.com/wp-content/uploads/...</td>\n",
       "      <td>Brett Bose,Grant Stern,Steve Bernstein,Natalie...</td>\n",
       "      <td>http://occupydemocrats.com</td>\n",
       "      <td>{'$date': 1474934400000}</td>\n",
       "      <td>NaN</td>\n",
       "      <td>http://occupydemocrats.com/wp-content/uploads/...</td>\n",
       "      <td>http://occupydemocrats.com/2016/09/27/trump-ju...</td>\n",
       "      <td>{\"generator\": \"Powered by Visual Composer - dr...</td>\n",
       "    </tr>\n",
       "    <tr>\n",
       "      <th>1</th>\n",
       "      <td>Real_10-Webpage</td>\n",
       "      <td>Famous dog killed in spot she waited a year fo...</td>\n",
       "      <td>Famous dog killed in spot she waited a year fo...</td>\n",
       "      <td>http://rightwingnews.com/top-news/famous-dog-k...</td>\n",
       "      <td>http://rightwingnews.com/wp-content/uploads/20...</td>\n",
       "      <td>NaN</td>\n",
       "      <td>http://rightwingnews.com</td>\n",
       "      <td>{'$date': 1474948336000}</td>\n",
       "      <td>NaN</td>\n",
       "      <td>http://rightwingnews.com/wp-content/uploads/20...</td>\n",
       "      <td>http://rightwingnews.com/top-news/famous-dog-k...</td>\n",
       "      <td>{\"googlebot\": \"noimageindex\", \"og\": {\"site_nam...</td>\n",
       "    </tr>\n",
       "    <tr>\n",
       "      <th>2</th>\n",
       "      <td>Real_100-Webpage</td>\n",
       "      <td>House oversight panel votes Clinton IT chief i...</td>\n",
       "      <td>Story highlights The House Oversight panel vot...</td>\n",
       "      <td>http://cnn.it/2deaH2d</td>\n",
       "      <td>http://i2.cdn.cnn.com/cnnnext/dam/assets/16091...</td>\n",
       "      <td>Tom Lobianco,Deirdre Walsh</td>\n",
       "      <td>http://cnn.it</td>\n",
       "      <td>NaN</td>\n",
       "      <td>NaN</td>\n",
       "      <td>http://i2.cdn.cnn.com/cnnnext/dam/assets/17050...</td>\n",
       "      <td>http://www.cnn.com/2016/09/22/politics/bryan-p...</td>\n",
       "      <td>{\"description\": \"Members of the House Oversigh...</td>\n",
       "    </tr>\n",
       "  </tbody>\n",
       "</table>\n",
       "</div>"
      ],
      "text/plain": [
       "                 id                                              title  \\\n",
       "0    Real_1-Webpage  Trump Just Insulted Millions Who Lost Everythi...   \n",
       "1   Real_10-Webpage  Famous dog killed in spot she waited a year fo...   \n",
       "2  Real_100-Webpage  House oversight panel votes Clinton IT chief i...   \n",
       "\n",
       "                                                text  \\\n",
       "0  16.8k SHARES SHARE THIS STORY\\n\\nHillary Clint...   \n",
       "1  Famous dog killed in spot she waited a year fo...   \n",
       "2  Story highlights The House Oversight panel vot...   \n",
       "\n",
       "                                                 url  \\\n",
       "0  http://occupydemocrats.com/2016/09/27/trump-ju...   \n",
       "1  http://rightwingnews.com/top-news/famous-dog-k...   \n",
       "2                              http://cnn.it/2deaH2d   \n",
       "\n",
       "                                             top_img  \\\n",
       "0  http://occupydemocrats.com/wp-content/uploads/...   \n",
       "1  http://rightwingnews.com/wp-content/uploads/20...   \n",
       "2  http://i2.cdn.cnn.com/cnnnext/dam/assets/16091...   \n",
       "\n",
       "                                             authors  \\\n",
       "0  Brett Bose,Grant Stern,Steve Bernstein,Natalie...   \n",
       "1                                                NaN   \n",
       "2                         Tom Lobianco,Deirdre Walsh   \n",
       "\n",
       "                       source              publish_date movies  \\\n",
       "0  http://occupydemocrats.com  {'$date': 1474934400000}    NaN   \n",
       "1    http://rightwingnews.com  {'$date': 1474948336000}    NaN   \n",
       "2               http://cnn.it                       NaN    NaN   \n",
       "\n",
       "                                              images  \\\n",
       "0  http://occupydemocrats.com/wp-content/uploads/...   \n",
       "1  http://rightwingnews.com/wp-content/uploads/20...   \n",
       "2  http://i2.cdn.cnn.com/cnnnext/dam/assets/17050...   \n",
       "\n",
       "                                      canonical_link  \\\n",
       "0  http://occupydemocrats.com/2016/09/27/trump-ju...   \n",
       "1  http://rightwingnews.com/top-news/famous-dog-k...   \n",
       "2  http://www.cnn.com/2016/09/22/politics/bryan-p...   \n",
       "\n",
       "                                           meta_data  \n",
       "0  {\"generator\": \"Powered by Visual Composer - dr...  \n",
       "1  {\"googlebot\": \"noimageindex\", \"og\": {\"site_nam...  \n",
       "2  {\"description\": \"Members of the House Oversigh...  "
      ]
     },
     "execution_count": 11,
     "metadata": {},
     "output_type": "execute_result"
    }
   ],
   "source": [
    "pf_fake.head(3)"
   ]
  },
  {
   "cell_type": "markdown",
   "metadata": {},
   "source": [
    "## Creating a TF-IDF representation."
   ]
  },
  {
   "cell_type": "code",
   "execution_count": 19,
   "metadata": {},
   "outputs": [],
   "source": [
    "# Concatenate title and text\n",
    "pf_fake[\"full_text\"] = pf_fake[\"title\"] + \" \" + pf_fake[\"text\"]"
   ]
  },
  {
   "cell_type": "code",
   "execution_count": 50,
   "metadata": {},
   "outputs": [
    {
     "name": "stderr",
     "output_type": "stream",
     "text": [
      "[nltk_data] Downloading package stopwords to\n",
      "[nltk_data]     C:\\Users\\Lasse\\AppData\\Roaming\\nltk_data...\n",
      "[nltk_data]   Package stopwords is already up-to-date!\n"
     ]
    },
    {
     "name": "stdout",
     "output_type": "stream",
     "text": [
      "0      {'mud': 0.0, 'seriou': 0.0, 'beyond': 0.0, 'fl...\n",
      "1      {'mud': 0.0, 'seriou': 0.0, 'beyond': 0.0, 'fl...\n",
      "2      {'mud': 0.0, 'seriou': 0.0, 'beyond': 0.0, 'fl...\n",
      "3      {'mud': 0.0, 'seriou': 0.0, 'beyond': 0.0, 'fl...\n",
      "4      {'mud': 0.0, 'seriou': 0.0, 'beyond': 0.0, 'fl...\n",
      "                             ...                        \n",
      "115    {'mud': 0.0, 'seriou': 0.0, 'beyond': 0.0, 'fl...\n",
      "116    {'mud': 0.0, 'seriou': 0.0, 'beyond': 0.0, 'fl...\n",
      "117    {'mud': 0.0, 'seriou': 0.002206360447568847, '...\n",
      "118    {'mud': 0.0, 'seriou': 0.0, 'beyond': 0.0, 'fl...\n",
      "119    {'mud': 0.0, 'seriou': 0.0, 'beyond': 0.0, 'fl...\n",
      "Name: tfidf, Length: 120, dtype: object\n"
     ]
    }
   ],
   "source": [
    "import pandas as pd\n",
    "from collections import Counter\n",
    "import math\n",
    "import re\n",
    "import nltk\n",
    "from nltk.stem import PorterStemmer\n",
    "from nltk.corpus import stopwords\n",
    "\n",
    "# Download the stopwords dataset\n",
    "nltk.download('stopwords')\n",
    "\n",
    "def tokenize(text, stemmer, stop_words):\n",
    "    \"\"\"Tokenize text, stem, and remove stop words.\"\"\"\n",
    "    tokens = re.findall(r'\\b\\w+\\b', text.lower())\n",
    "    return [stemmer.stem(token) for token in tokens if token not in stop_words]\n",
    "\n",
    "def compute_tfidf(df, column_name):\n",
    "    stemmer = PorterStemmer()\n",
    "    stop_words = set(stopwords.words('english'))\n",
    "\n",
    "    # Tokenize, stem and compute term frequency for each document\n",
    "    df['tf'] = df[column_name].apply(lambda x: Counter(tokenize(x, stemmer, stop_words)))\n",
    "\n",
    "    # Create a list of all unique words in the corpus\n",
    "    all_unique_words = list(set(word for tf in df['tf'] for word in tf.keys()))\n",
    "\n",
    "    # Compute the number of documents in which each word appears\n",
    "    word_document_count = Counter(word for tf in df['tf'] for word in tf.keys())\n",
    "\n",
    "    # Compute the total number of documents\n",
    "    total_documents = len(df)\n",
    "\n",
    "    # Compute inverse document frequency for each word\n",
    "    idf = {word: math.log(total_documents / count) for word, count in word_document_count.items()}\n",
    "\n",
    "    # Compute TF-IDF for each word in each document and ensure that all words in the corpus are represented\n",
    "    def calculate_tfidf(tf):\n",
    "        return {word: tf.get(word, 0)/sum(tf.values()) * idf[word] for word in all_unique_words}\n",
    "\n",
    "    df['tfidf'] = df['tf'].apply(calculate_tfidf)\n",
    "\n",
    "    return df['tfidf']\n",
    "\n",
    "\n",
    "tfidf_scores = compute_tfidf(pf_fake, 'full_text')\n",
    "\n"
   ]
  },
  {
   "cell_type": "code",
   "execution_count": 51,
   "metadata": {},
   "outputs": [
    {
     "name": "stdout",
     "output_type": "stream",
     "text": [
      "6364\n"
     ]
    }
   ],
   "source": [
    "print(len(tfidf_scores[0]))"
   ]
  },
  {
   "cell_type": "code",
   "execution_count": null,
   "metadata": {},
   "outputs": [],
   "source": []
  },
  {
   "cell_type": "code",
   "execution_count": 36,
   "metadata": {},
   "outputs": [
    {
     "name": "stdout",
     "output_type": "stream",
     "text": [
      "(120, 8777)\n"
     ]
    }
   ],
   "source": [
    "import pandas as pd\n",
    "from sklearn.feature_extraction.text import TfidfVectorizer\n",
    "\n",
    "def dataframe_to_tfidf(df, column_name):\n",
    "    \"\"\"\n",
    "    Convert a text corpus in a pandas DataFrame to its TF-IDF representation.\n",
    "    \n",
    "    Parameters:\n",
    "    - df (pd.DataFrame): The pandas DataFrame containing the text corpus.\n",
    "    - column_name (str): The column in the DataFrame containing the text corpus.\n",
    "    \n",
    "    Returns:\n",
    "    - tfidf_matrix (sparse matrix): The TF-IDF representation of the text corpus.\n",
    "    - tfidf_feature_names (list): List of feature names (words) for the TF-IDF matrix.\n",
    "    \"\"\"\n",
    "    \n",
    "    # Initialize the TF-IDF vectorizer\n",
    "    tfidf_vectorizer = TfidfVectorizer(stop_words='english', max_df=0.85)\n",
    "    \n",
    "    # Fit and transform the text corpus\n",
    "    tfidf_matrix = tfidf_vectorizer.fit_transform(df[column_name])\n",
    "    \n",
    "    # Get feature names\n",
    "    tfidf_feature_names = tfidf_vectorizer.get_feature_names_out()\n",
    "    \n",
    "    return tfidf_matrix, tfidf_feature_names\n",
    "\n",
    "# Example Usage:\n",
    "# df = pd.DataFrame({'text': [\"This is the first document.\", \n",
    "#                             \"This document is the second document.\", \n",
    "#                             \"And this is the third one.\"]})\n",
    "tfidf_matrix, tfidf_feature_names = dataframe_to_tfidf(pf_fake, 'full_text')\n",
    "print(tfidf_matrix.shape)\n",
    "# print(tfidf_feature_names)\n"
   ]
  },
  {
   "cell_type": "code",
   "execution_count": null,
   "metadata": {},
   "outputs": [],
   "source": []
  }
 ],
 "metadata": {
  "kernelspec": {
   "display_name": "CompTools",
   "language": "python",
   "name": "python3"
  },
  "language_info": {
   "codemirror_mode": {
    "name": "ipython",
    "version": 3
   },
   "file_extension": ".py",
   "mimetype": "text/x-python",
   "name": "python",
   "nbconvert_exporter": "python",
   "pygments_lexer": "ipython3",
   "version": "3.9.6"
  },
  "orig_nbformat": 4
 },
 "nbformat": 4,
 "nbformat_minor": 2
}
